{
  "nbformat": 4,
  "nbformat_minor": 0,
  "metadata": {
    "colab": {
      "provenance": [],
      "authorship_tag": "ABX9TyNJzks2lVUP2DsrHpgZV3UL",
      "include_colab_link": true
    },
    "kernelspec": {
      "name": "python3",
      "display_name": "Python 3"
    },
    "language_info": {
      "name": "python"
    }
  },
  "cells": [
    {
      "cell_type": "markdown",
      "metadata": {
        "id": "view-in-github",
        "colab_type": "text"
      },
      "source": [
        "<a href=\"https://colab.research.google.com/github/SutapaNayak/Programming-Assignment/blob/main/Programming_Assignment_1_Ineurone.ipynb\" target=\"_parent\"><img src=\"https://colab.research.google.com/assets/colab-badge.svg\" alt=\"Open In Colab\"/></a>"
      ]
    },
    {
      "cell_type": "markdown",
      "source": [
        "1. Write a Python program to print &quot;Hello Python&quot;?"
      ],
      "metadata": {
        "id": "Ik_OFYfd5k8z"
      }
    },
    {
      "cell_type": "code",
      "source": [
        "print(\"Hello Python\")"
      ],
      "metadata": {
        "colab": {
          "base_uri": "https://localhost:8080/"
        },
        "id": "zfS1eLUC5pOD",
        "outputId": "947702bc-9964-474a-9492-a35b5db39a00"
      },
      "execution_count": null,
      "outputs": [
        {
          "output_type": "stream",
          "name": "stdout",
          "text": [
            "Hello Python\n"
          ]
        }
      ]
    },
    {
      "cell_type": "markdown",
      "source": [
        "2. Write a Python program to do arithmetical operations addition and division.?"
      ],
      "metadata": {
        "id": "minlHc0I58S1"
      }
    },
    {
      "cell_type": "code",
      "source": [
        "\n",
        "def add(a,b):\n",
        "    return a+b\n",
        "\n",
        "def div(a,b):\n",
        "    if b==0:\n",
        "       return \"error\"\n",
        "    else:\n",
        "       return a/b\n",
        "\n",
        "c=15\n",
        "d=10\n",
        "\n",
        "sum=add(c,d)\n",
        "divison=div(c,d)\n",
        "\n",
        "print(\"addition\",sum)\n",
        "print(\"division\",divison)"
      ],
      "metadata": {
        "colab": {
          "base_uri": "https://localhost:8080/"
        },
        "id": "mOqPamru8885",
        "outputId": "a014ac76-4309-4959-caff-4cd494ec08a4"
      },
      "execution_count": null,
      "outputs": [
        {
          "output_type": "stream",
          "name": "stdout",
          "text": [
            "addition 25\n",
            "division 1.5\n"
          ]
        }
      ]
    },
    {
      "cell_type": "markdown",
      "source": [
        "3. Write a Python program to find the area of a triangle?"
      ],
      "metadata": {
        "id": "uGJVLrCMBcgI"
      }
    },
    {
      "cell_type": "code",
      "source": [
        "def tri(a,b):\n",
        "    return 0.5*a*b\n",
        "\n",
        "base=10\n",
        "height=5\n",
        "\n",
        "area=tri(base,height)\n",
        "print(\"Area of Triangle\",area)"
      ],
      "metadata": {
        "colab": {
          "base_uri": "https://localhost:8080/"
        },
        "id": "bsemohFQBfuH",
        "outputId": "d2d74962-b8e4-48dc-ac09-37eeaba365a3"
      },
      "execution_count": null,
      "outputs": [
        {
          "output_type": "stream",
          "name": "stdout",
          "text": [
            "Area of Triangle 25.0\n"
          ]
        }
      ]
    },
    {
      "cell_type": "markdown",
      "source": [
        "4. Write a Python program to swap two variables?"
      ],
      "metadata": {
        "id": "xBInJf3wD65-"
      }
    },
    {
      "cell_type": "code",
      "source": [
        "def swap(a,b):\n",
        "    return b,a\n",
        "\n",
        "x=10\n",
        "y=20\n",
        "\n",
        "afterswap = swap(x,y)\n",
        "print(\"variable after swapping\" ,afterswap)"
      ],
      "metadata": {
        "colab": {
          "base_uri": "https://localhost:8080/"
        },
        "id": "wkI3ix9nD9zX",
        "outputId": "c5d239b8-8b0f-4686-a7d3-3adf5ea80e24"
      },
      "execution_count": null,
      "outputs": [
        {
          "output_type": "stream",
          "name": "stdout",
          "text": [
            "variable after swapping (20, 10)\n"
          ]
        }
      ]
    },
    {
      "cell_type": "markdown",
      "source": [
        "5. Write a Python program to generate a random number?"
      ],
      "metadata": {
        "id": "IbeXBPjIJYQL"
      }
    },
    {
      "cell_type": "code",
      "source": [
        "import random\n",
        "\n",
        "def genran(a,b):\n",
        "  return random.randint(a,b)\n",
        "\n",
        "ran1=2\n",
        "ran2=200\n",
        "\n",
        "random_num=genran(ran1,ran2)\n",
        "print(\"Generate random\" , random_num)"
      ],
      "metadata": {
        "colab": {
          "base_uri": "https://localhost:8080/"
        },
        "id": "K9oxZKeQJZ1S",
        "outputId": "3e4a330d-23ce-4f4a-ac2b-084ed6244490"
      },
      "execution_count": null,
      "outputs": [
        {
          "output_type": "stream",
          "name": "stdout",
          "text": [
            "Generate random 177\n"
          ]
        }
      ]
    }
  ]
}