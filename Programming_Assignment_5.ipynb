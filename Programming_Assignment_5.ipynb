{
  "nbformat": 4,
  "nbformat_minor": 0,
  "metadata": {
    "colab": {
      "provenance": [],
      "authorship_tag": "ABX9TyPspgSw67hvxOS/uT/T3zBF",
      "include_colab_link": true
    },
    "kernelspec": {
      "name": "python3",
      "display_name": "Python 3"
    },
    "language_info": {
      "name": "python"
    }
  },
  "cells": [
    {
      "cell_type": "markdown",
      "metadata": {
        "id": "view-in-github",
        "colab_type": "text"
      },
      "source": [
        "<a href=\"https://colab.research.google.com/github/SutapaNayak/Programming-Assignment/blob/main/Programming_Assignment_5.ipynb\" target=\"_parent\"><img src=\"https://colab.research.google.com/assets/colab-badge.svg\" alt=\"Open In Colab\"/></a>"
      ]
    },
    {
      "cell_type": "code",
      "execution_count": null,
      "metadata": {
        "id": "LmnYgUWEZhNJ"
      },
      "outputs": [],
      "source": []
    },
    {
      "cell_type": "markdown",
      "source": [
        "1.Write a Python Program to Convert Decimal to Binary, Octal and Hexadecimal?"
      ],
      "metadata": {
        "id": "JmpMj5OxaNQ0"
      }
    },
    {
      "cell_type": "code",
      "source": [
        "def dectobin(x):\n",
        "    return bin(x)[2:]\n",
        "def dectohec(x):\n",
        "    return hex(x)[2:]\n",
        "def dectooct(x):\n",
        "    return oct(x)[2:]\n",
        "\n",
        "x=int(input(\"enter a number\" ))\n",
        "\n",
        "binary = dectobin(x)\n",
        "hexa = dectohec(x)\n",
        "octa = dectooct(x)\n",
        "\n",
        "print(\" binary number\" , binary)\n",
        "print(\" hexa number\" , hexa)\n",
        "print(\" octa number\" , octa)"
      ],
      "metadata": {
        "colab": {
          "base_uri": "https://localhost:8080/"
        },
        "id": "t7IbW7GkaPQE",
        "outputId": "20371f7a-11e0-4d24-8544-7c60b2946c8b"
      },
      "execution_count": null,
      "outputs": [
        {
          "output_type": "stream",
          "name": "stdout",
          "text": [
            "enter a number10\n",
            " binary number 1010\n",
            " hexa number a\n",
            " octa number 12\n"
          ]
        }
      ]
    },
    {
      "cell_type": "markdown",
      "source": [
        "4. Write a Python Program To Find ASCII value of a character?"
      ],
      "metadata": {
        "id": "a5iH8aMXcBs0"
      }
    },
    {
      "cell_type": "code",
      "source": [
        "\n",
        "def ascii(x):\n",
        "    return ord(x)\n",
        "n= input(\"enter value\")\n",
        "\n",
        "asciivalue = ascii(n)\n",
        "print(\"value\", asciivalue)"
      ],
      "metadata": {
        "colab": {
          "base_uri": "https://localhost:8080/"
        },
        "id": "NNOr45Cwd3NG",
        "outputId": "0b35cf69-8217-4206-fbdd-09e2d4fc7337"
      },
      "execution_count": null,
      "outputs": [
        {
          "output_type": "stream",
          "name": "stdout",
          "text": [
            " enter valueA\n",
            "value 65\n"
          ]
        }
      ]
    },
    {
      "cell_type": "markdown",
      "source": [
        "5. Write a Python Program to Make a Simple Calculator with 4 basic mathematical operations?"
      ],
      "metadata": {
        "id": "fbsAoBf5e30G"
      }
    },
    {
      "cell_type": "code",
      "source": [
        "def sum (x,y):\n",
        "    return x+y\n",
        "\n",
        "def sub (x,y):\n",
        "    return x-y\n",
        "\n",
        "def mul (x,y):\n",
        "    return x*y\n",
        "\n",
        "def div (x,y):\n",
        "    if y==0:\n",
        "       return(\"error\")\n",
        "    else:\n",
        "       return x/y\n",
        "\n",
        "def calculator():\n",
        "    print(\"Select operation\")\n",
        "    print(\"1: addition\")\n",
        "    print(\"2: Substraction\")\n",
        "    print(\"3: Multiplication\")\n",
        "    print(\"4: Division\")\n",
        "\n",
        "\n",
        "    choice =input(\"enter choice 1/2/3/4\")\n",
        "\n",
        "    num1=float(input(\"Enter fisrt number\"))\n",
        "    num2=float(input(\"Enter second number\"))\n",
        "\n",
        "    if choice ==\"1\":\n",
        "       print(\"Results\" , sum(num1,num2))\n",
        "    elif choice ==\"2\":\n",
        "       print(\"Results\" , sub(num1,num2))\n",
        "    elif choice ==\"3\":\n",
        "       print(\"Results\" , mul(num1,num2))\n",
        "    elif choice ==\"4\":\n",
        "       print(\"Results\" , div(num1,num2))\n",
        "    else:\n",
        "       print(\"Error\")\n",
        "\n",
        "calculator()\n",
        "\n",
        "\n"
      ],
      "metadata": {
        "colab": {
          "base_uri": "https://localhost:8080/"
        },
        "id": "vPi77yt3e6Ft",
        "outputId": "bcf1bd2f-9cbf-431b-9ced-ea388cb87c5a"
      },
      "execution_count": 32,
      "outputs": [
        {
          "output_type": "stream",
          "name": "stdout",
          "text": [
            "Select operation\n",
            "1: addition\n",
            "2: Substraction\n",
            "3: Multiplication\n",
            "4: Division\n",
            "enter choice 1/2/3/43\n",
            "Enter fisrt number25\n",
            "Enter second number5\n",
            "Results 125.0\n"
          ]
        }
      ]
    }
  ]
}