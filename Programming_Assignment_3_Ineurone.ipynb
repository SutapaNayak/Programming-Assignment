{
  "nbformat": 4,
  "nbformat_minor": 0,
  "metadata": {
    "colab": {
      "provenance": [],
      "authorship_tag": "ABX9TyOziXxj3E89+MpVRD/z7X/M",
      "include_colab_link": true
    },
    "kernelspec": {
      "name": "python3",
      "display_name": "Python 3"
    },
    "language_info": {
      "name": "python"
    }
  },
  "cells": [
    {
      "cell_type": "markdown",
      "metadata": {
        "id": "view-in-github",
        "colab_type": "text"
      },
      "source": [
        "<a href=\"https://colab.research.google.com/github/SutapaNayak/Programming-Assignment/blob/main/Programming_Assignment_3_Ineurone.ipynb\" target=\"_parent\"><img src=\"https://colab.research.google.com/assets/colab-badge.svg\" alt=\"Open In Colab\"/></a>"
      ]
    },
    {
      "cell_type": "markdown",
      "source": [
        "1. Write a Python Program to Check if a Number is Positive, Negative or Zero?"
      ],
      "metadata": {
        "id": "1bVTFnHiv3l0"
      }
    },
    {
      "cell_type": "code",
      "source": [
        "def checknumber(a):\n",
        "    if a>0:\n",
        "       return \"positive\"\n",
        "    elif a<0:\n",
        "       return \"negative\"\n",
        "    else :\n",
        "       return 0\n",
        "\n",
        "x=float(input(\"Enter the number to check\"))\n",
        "\n",
        "number= checknumber(x)\n",
        "\n",
        "print(\"The output\", number)\n"
      ],
      "metadata": {
        "colab": {
          "base_uri": "https://localhost:8080/"
        },
        "id": "c_c8LAwnv4b5",
        "outputId": "5f8a3ed3-37a0-4aa5-f935-56e9b4d8a1e6"
      },
      "execution_count": 8,
      "outputs": [
        {
          "output_type": "stream",
          "name": "stdout",
          "text": [
            "Enter the number to check.3\n",
            "The output positive\n"
          ]
        }
      ]
    },
    {
      "cell_type": "markdown",
      "source": [
        "2. Write a Python Program to Check if a Number is Odd or Even?"
      ],
      "metadata": {
        "id": "oFBELuyHxYxq"
      }
    },
    {
      "cell_type": "code",
      "source": [
        "def checknumber(a):\n",
        "    if a%2==0:\n",
        "       return \"even\"\n",
        "    else :\n",
        "       return \"odd\"\n",
        "\n",
        "x=float(input(\"Enter the number to check\"))\n",
        "\n",
        "number= checknumber(x)\n",
        "\n",
        "print(\"The output\", number)"
      ],
      "metadata": {
        "colab": {
          "base_uri": "https://localhost:8080/"
        },
        "id": "fHS_obTLxb2p",
        "outputId": "83aff26d-bcc3-446e-e750-b2345b621e8e"
      },
      "execution_count": 10,
      "outputs": [
        {
          "output_type": "stream",
          "name": "stdout",
          "text": [
            "Enter the number to check22\n",
            "The output even\n"
          ]
        }
      ]
    },
    {
      "cell_type": "markdown",
      "source": [
        "3. Write a Python Program to Check Leap Year?"
      ],
      "metadata": {
        "id": "u2V3mhOwx5Oy"
      }
    },
    {
      "cell_type": "code",
      "source": [
        "def isleapyear(a):\n",
        "    if (a%4==0 and a%100!=0):\n",
        "       return \"Leap year\"\n",
        "    else :\n",
        "       return \"Normal year\"\n",
        "\n",
        "x=int(input(\"Enter the number to check\"))\n",
        "\n",
        "leapyear= isleapyear(x)\n",
        "\n",
        "print(\"The output\", leapyear)"
      ],
      "metadata": {
        "colab": {
          "base_uri": "https://localhost:8080/"
        },
        "id": "gZ33_Er9x7dh",
        "outputId": "1c886d39-9ac6-4817-88a4-4bc1167c6d53"
      },
      "execution_count": 14,
      "outputs": [
        {
          "output_type": "stream",
          "name": "stdout",
          "text": [
            "Enter the number to check2024\n",
            "The output Leap year\n"
          ]
        }
      ]
    },
    {
      "cell_type": "markdown",
      "source": [
        "4. Write a Python Program to Check Prime Number?"
      ],
      "metadata": {
        "id": "d8uARatXy57h"
      }
    },
    {
      "cell_type": "code",
      "source": [],
      "metadata": {
        "id": "Ly-O0ywLy8Ch"
      },
      "execution_count": null,
      "outputs": []
    }
  ]
}