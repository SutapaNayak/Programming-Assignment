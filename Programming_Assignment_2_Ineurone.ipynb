{
  "nbformat": 4,
  "nbformat_minor": 0,
  "metadata": {
    "colab": {
      "provenance": [],
      "authorship_tag": "ABX9TyN73TnUdHNV/7gxoEwRIdR0",
      "include_colab_link": true
    },
    "kernelspec": {
      "name": "python3",
      "display_name": "Python 3"
    },
    "language_info": {
      "name": "python"
    }
  },
  "cells": [
    {
      "cell_type": "markdown",
      "metadata": {
        "id": "view-in-github",
        "colab_type": "text"
      },
      "source": [
        "<a href=\"https://colab.research.google.com/github/SutapaNayak/Programming-Assignment/blob/main/Programming_Assignment_2_Ineurone.ipynb\" target=\"_parent\"><img src=\"https://colab.research.google.com/assets/colab-badge.svg\" alt=\"Open In Colab\"/></a>"
      ]
    },
    {
      "cell_type": "markdown",
      "source": [
        "1.Write a Python program to convert kilometers to miles?"
      ],
      "metadata": {
        "id": "1sCgkxTvQSP2"
      }
    },
    {
      "cell_type": "code",
      "source": [
        "\n",
        "\n",
        "def conver(a):\n",
        "    return 0.621371 * a\n",
        "\n",
        "x=10\n",
        "\n",
        "Kmtomile=conver(x)\n",
        "print('conversion km to mile', Kmtomile)"
      ],
      "metadata": {
        "colab": {
          "base_uri": "https://localhost:8080/"
        },
        "id": "gAn0EBbdQVSl",
        "outputId": "4edbb571-b301-432a-9acb-890e19e0c069"
      },
      "execution_count": null,
      "outputs": [
        {
          "output_type": "stream",
          "name": "stdout",
          "text": [
            "conversion km to mile 6.21371\n"
          ]
        }
      ]
    },
    {
      "cell_type": "markdown",
      "source": [
        "2. Write a Python program to convert Celsius to Fahrenheit?"
      ],
      "metadata": {
        "id": "Tt1HI8vsRUon"
      }
    },
    {
      "cell_type": "code",
      "source": [
        "#fahrenheit = (celsius * 9/5) + 32\n",
        "\n",
        "def convert(a):\n",
        "    return (a * 9/5) + 32\n",
        "\n",
        "x=20\n",
        "\n",
        "fantocel=convert(x)\n",
        "print('conversion fan to cel', fantocel)"
      ],
      "metadata": {
        "colab": {
          "base_uri": "https://localhost:8080/"
        },
        "id": "FaUbayvNRXTF",
        "outputId": "a5de70d8-e4e0-412d-cf1c-7f16d44e87c3"
      },
      "execution_count": null,
      "outputs": [
        {
          "output_type": "stream",
          "name": "stdout",
          "text": [
            "conversion fan to cel 68.0\n"
          ]
        }
      ]
    },
    {
      "cell_type": "markdown",
      "source": [
        "3. Write a Python program to display calendar?"
      ],
      "metadata": {
        "id": "VTQL-ICETqHs"
      }
    },
    {
      "cell_type": "code",
      "source": [
        "import calendar\n",
        "\n",
        "def display_calendar(year, month):\n",
        "    return calendar.month(year, month)\n",
        "if __name__ == \"__main__\":\n",
        "    year = int(input(\"Enter the year: \"))\n",
        "    month = int(input(\"Enter the month (1-12): \"))\n",
        "    print(\"\\nCalendar:\")\n",
        "    print(display_calendar(year, month))\n"
      ],
      "metadata": {
        "colab": {
          "base_uri": "https://localhost:8080/"
        },
        "id": "ztiB5bkkTtiM",
        "outputId": "7a262eae-11fd-4687-8aa3-27efe886e4b1"
      },
      "execution_count": null,
      "outputs": [
        {
          "output_type": "stream",
          "name": "stdout",
          "text": [
            "Enter the year: 2020\n",
            "Enter the month (1-12): 2\n",
            "\n",
            "Calendar:\n",
            "   February 2020\n",
            "Mo Tu We Th Fr Sa Su\n",
            "                1  2\n",
            " 3  4  5  6  7  8  9\n",
            "10 11 12 13 14 15 16\n",
            "17 18 19 20 21 22 23\n",
            "24 25 26 27 28 29\n",
            "\n"
          ]
        }
      ]
    },
    {
      "cell_type": "markdown",
      "source": [
        "4. Write a Python program to solve quadratic equation?"
      ],
      "metadata": {
        "id": "ltphvJQCurNC"
      }
    },
    {
      "cell_type": "code",
      "source": [
        "import math\n",
        "\n",
        "def quadratic_solver(a, b, c):\n",
        "    discriminant = b**2 - 4*a*c\n",
        "\n",
        "    if discriminant > 0:\n",
        "        # Two real roots\n",
        "        root1 = (-b + math.sqrt(discriminant)) / (2*a)\n",
        "        root2 = (-b - math.sqrt(discriminant)) / (2*a)\n",
        "        return root1, root2\n",
        "    elif discriminant == 0:\n",
        "        # One real root (repeated)\n",
        "        root = -b / (2*a)\n",
        "        return root, root\n",
        "    else:\n",
        "        # Complex roots\n",
        "        real_part = -b / (2*a)\n",
        "        imaginary_part = math.sqrt(abs(discriminant)) / (2*a)\n",
        "        root1 = complex(real_part, imaginary_part)\n",
        "        root2 = complex(real_part, -imaginary_part)\n",
        "        return root1, root2\n",
        "\n",
        "# Example usage\n",
        "a = float(input(\"Enter the coefficient of x^2: \"))\n",
        "b = float(input(\"Enter the coefficient of x: \"))\n",
        "c = float(input(\"Enter the constant term: \"))\n",
        "\n",
        "roots = quadratic_solver(a, b, c)\n",
        "\n",
        "if isinstance(roots[0], complex):\n",
        "    print(\"The roots are complex:\")\n",
        "    print(\"Root 1:\", roots[0])\n",
        "    print(\"Root 2:\", roots[1])\n",
        "else:\n",
        "    print(\"The roots are real:\")\n",
        "    print(\"Root 1:\", roots[0])\n",
        "    print(\"Root 2:\", roots[1])\n"
      ],
      "metadata": {
        "colab": {
          "base_uri": "https://localhost:8080/"
        },
        "id": "dWPlPSZPupBt",
        "outputId": "9b7ea8be-a89e-45f3-f656-1815418d7f0e"
      },
      "execution_count": null,
      "outputs": [
        {
          "output_type": "stream",
          "name": "stdout",
          "text": [
            "Enter the coefficient of x^2: 2\n",
            "Enter the coefficient of x: 2\n",
            "Enter the constant term: 2\n",
            "The roots are complex:\n",
            "Root 1: (-0.5+0.8660254037844386j)\n",
            "Root 2: (-0.5-0.8660254037844386j)\n"
          ]
        }
      ]
    },
    {
      "cell_type": "markdown",
      "source": [
        "5. Write a Python program to swap two variables without temp variable?"
      ],
      "metadata": {
        "id": "hQrhl90Ju3yT"
      }
    },
    {
      "cell_type": "code",
      "source": [
        "def swap(a,b):\n",
        "    return b,a\n",
        "\n",
        "x=int(input(\"Enter first variable\"))\n",
        "y=int(input(\"Enter second variable\"))\n",
        "\n",
        "afterswap = swap(x,y)\n",
        "print(\"variable after swapping\" ,afterswap)"
      ],
      "metadata": {
        "colab": {
          "base_uri": "https://localhost:8080/"
        },
        "id": "vhhxHDEsu58T",
        "outputId": "ca1ee18b-d2a6-4497-b2c5-f6fcfc5a9607"
      },
      "execution_count": null,
      "outputs": [
        {
          "output_type": "stream",
          "name": "stdout",
          "text": [
            "Enter first variable25\n",
            "Enter second variable62\n",
            "variable after swapping (62, 25)\n"
          ]
        }
      ]
    },
    {
      "cell_type": "markdown",
      "source": [],
      "metadata": {
        "id": "ctSvHLyvXKsU"
      }
    }
  ]
}