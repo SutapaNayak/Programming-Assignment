{
  "nbformat": 4,
  "nbformat_minor": 0,
  "metadata": {
    "colab": {
      "provenance": [],
      "authorship_tag": "ABX9TyNALkTYx4RI9mX/yMqmmRQI",
      "include_colab_link": true
    },
    "kernelspec": {
      "name": "python3",
      "display_name": "Python 3"
    },
    "language_info": {
      "name": "python"
    }
  },
  "cells": [
    {
      "cell_type": "markdown",
      "metadata": {
        "id": "view-in-github",
        "colab_type": "text"
      },
      "source": [
        "<a href=\"https://colab.research.google.com/github/SutapaNayak/Programming-Assignment/blob/main/Programming_Assignment_4.ipynb\" target=\"_parent\"><img src=\"https://colab.research.google.com/assets/colab-badge.svg\" alt=\"Open In Colab\"/></a>"
      ]
    },
    {
      "cell_type": "code",
      "execution_count": null,
      "metadata": {
        "id": "mVWW2nKTUbls"
      },
      "outputs": [],
      "source": [
        "1. Write a Python Program to Find the Factorial of a Number?"
      ]
    },
    {
      "cell_type": "code",
      "source": [
        "def factorial(a):\n",
        "    result = 1\n",
        "    for i in range (1 , a+1 ):\n",
        "        result *=i\n",
        "    return result\n",
        "\n",
        "x=5\n",
        "\n",
        "fact =factorial(x)\n",
        "print(\"Factorial number\", fact)"
      ],
      "metadata": {
        "colab": {
          "base_uri": "https://localhost:8080/"
        },
        "id": "TgXoZxGeWbKU",
        "outputId": "2b308cd1-ae10-4fcb-a938-b6e468885d26"
      },
      "execution_count": null,
      "outputs": [
        {
          "output_type": "stream",
          "name": "stdout",
          "text": [
            "Factorial number 120\n"
          ]
        }
      ]
    },
    {
      "cell_type": "markdown",
      "source": [
        "2. Write a Python Program to Display the multiplication Table?"
      ],
      "metadata": {
        "id": "xhThhu_rYLYU"
      }
    },
    {
      "cell_type": "code",
      "source": [
        "def multitable(n):\n",
        "    table=[]\n",
        "    for i in range(1,11):\n",
        "        numbers = n * i\n",
        "        table.append(numbers)\n",
        "    return table  #output did not come due to indent of lines\n",
        "\n",
        "x=int(input(\"enter the number of multiplication\"))\n",
        "calculation= multitable(x)\n",
        "\n",
        "print(\" Tables\", calculation)"
      ],
      "metadata": {
        "colab": {
          "base_uri": "https://localhost:8080/"
        },
        "id": "ZQt0XjZxb3bm",
        "outputId": "62ee93f6-ff84-4a91-8ffa-790a877af7b0"
      },
      "execution_count": null,
      "outputs": [
        {
          "output_type": "stream",
          "name": "stdout",
          "text": [
            "enter the number of multiplication5\n",
            " Tables [5, 10, 15, 20, 25, 30, 35, 40, 45, 50]\n"
          ]
        }
      ]
    },
    {
      "cell_type": "markdown",
      "source": [
        "3. Write a Python Program to Print the Fibonacci sequence?"
      ],
      "metadata": {
        "id": "Fwe5FSeTgu1x"
      }
    },
    {
      "cell_type": "code",
      "source": [
        "\n",
        "def fib(n):\n",
        "    fibseries=[0,1]\n",
        "    for i in range(2,n):\n",
        "        next_term= fibseries[-1]+fibseries[-2]\n",
        "        fibseries.append(next_term)\n",
        "    return fibseries\n",
        "\n",
        "x=10\n",
        "allelement = fib(x)\n",
        "print(\"elements\" , allelement)"
      ],
      "metadata": {
        "colab": {
          "base_uri": "https://localhost:8080/"
        },
        "id": "OCg6oor_gxBQ",
        "outputId": "26603cca-5599-421f-ba23-23fa4227fe4a"
      },
      "execution_count": null,
      "outputs": [
        {
          "output_type": "stream",
          "name": "stdout",
          "text": [
            "elements [0, 1, 1, 2, 3, 5, 8, 13, 21, 34]\n"
          ]
        }
      ]
    },
    {
      "cell_type": "markdown",
      "source": [
        "4. Write a Python Program to Check Armstrong Number?"
      ],
      "metadata": {
        "id": "SBL1UpLvja1s"
      }
    },
    {
      "cell_type": "code",
      "source": [
        "def is_armstrong(number):\n",
        "    # Count the number of digits in the number\n",
        "    num_digits = len(str(number))\n",
        "\n",
        "    # Initialize a variable to store the sum of the powers of digits\n",
        "    sum_of_powers = 0\n",
        "\n",
        "    # Iterate through each digit of the number\n",
        "    temp = number\n",
        "    while temp > 0:\n",
        "        digit = temp % 10\n",
        "        sum_of_powers += digit ** num_digits\n",
        "        temp //= 10\n",
        "\n",
        "    # Check if the number is equal to the sum of powers of its digits\n",
        "    if number == sum_of_powers:\n",
        "        return True\n",
        "    else:\n",
        "        return False\n",
        "\n",
        "# Test the function\n",
        "num = int(input(\"Enter a number: \"))\n",
        "if is_armstrong(num):\n",
        "    print(num, \"is an Armstrong number.\")\n",
        "else:\n",
        "    print(num, \"is not an Armstrong number.\")\n"
      ],
      "metadata": {
        "id": "Ge1qnqbpoJrR",
        "colab": {
          "base_uri": "https://localhost:8080/"
        },
        "outputId": "ac50ebe0-6d0e-4475-a8a5-1c516d3ff722"
      },
      "execution_count": 1,
      "outputs": [
        {
          "output_type": "stream",
          "name": "stdout",
          "text": [
            "Enter a number: 5\n",
            "5 is an Armstrong number.\n"
          ]
        }
      ]
    }
  ]
}